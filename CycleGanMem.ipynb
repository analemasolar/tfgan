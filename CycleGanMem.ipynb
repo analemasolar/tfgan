{
  "cells": [
    {
      "cell_type": "code",
      "execution_count": null,
      "metadata": {
        "colab": {
          "base_uri": "https://localhost:8080/"
        },
        "id": "A7LeESSawpzf",
        "outputId": "c6aab478-c6f5-4c72-f863-e3941280287c"
      },
      "outputs": [
        {
          "name": "stdout",
          "output_type": "stream",
          "text": [
            "Collecting comet_ml\n",
            "  Downloading comet_ml-3.33.6-py3-none-any.whl (549 kB)\n",
            "\u001b[2K     \u001b[90m━━━━━━━━━━━━━━━━━━━━━━━━━━━━━━━━━━━━━━━\u001b[0m \u001b[32m549.6/549.6 kB\u001b[0m \u001b[31m5.7 MB/s\u001b[0m eta \u001b[36m0:00:00\u001b[0m\n",
            "\u001b[?25hRequirement already satisfied: jsonschema!=3.1.0,>=2.6.0 in /usr/local/lib/python3.10/dist-packages (from comet_ml) (4.3.3)\n",
            "Requirement already satisfied: psutil>=5.6.3 in /usr/local/lib/python3.10/dist-packages (from comet_ml) (5.9.5)\n",
            "Collecting python-box<7.0.0 (from comet_ml)\n",
            "  Downloading python_box-6.1.0-cp310-cp310-manylinux_2_17_x86_64.manylinux2014_x86_64.whl (3.3 MB)\n",
            "\u001b[2K     \u001b[90m━━━━━━━━━━━━━━━━━━━━━━━━━━━━━━━━━━━━━━━━\u001b[0m \u001b[32m3.3/3.3 MB\u001b[0m \u001b[31m23.1 MB/s\u001b[0m eta \u001b[36m0:00:00\u001b[0m\n",
            "\u001b[?25hCollecting requests-toolbelt>=0.8.0 (from comet_ml)\n",
            "  Downloading requests_toolbelt-1.0.0-py2.py3-none-any.whl (54 kB)\n",
            "\u001b[2K     \u001b[90m━━━━━━━━━━━━━━━━━━━━━━━━━━━━━━━━━━━━━━━━\u001b[0m \u001b[32m54.5/54.5 kB\u001b[0m \u001b[31m5.4 MB/s\u001b[0m eta \u001b[36m0:00:00\u001b[0m\n",
            "\u001b[?25hRequirement already satisfied: requests>=2.18.4 in /usr/local/lib/python3.10/dist-packages (from comet_ml) (2.27.1)\n",
            "Collecting semantic-version>=2.8.0 (from comet_ml)\n",
            "  Downloading semantic_version-2.10.0-py2.py3-none-any.whl (15 kB)\n",
            "Collecting sentry-sdk>=1.1.0 (from comet_ml)\n",
            "  Downloading sentry_sdk-1.28.1-py2.py3-none-any.whl (214 kB)\n",
            "\u001b[2K     \u001b[90m━━━━━━━━━━━━━━━━━━━━━━━━━━━━━━━━━━━━━━\u001b[0m \u001b[32m214.7/214.7 kB\u001b[0m \u001b[31m14.4 MB/s\u001b[0m eta \u001b[36m0:00:00\u001b[0m\n",
            "\u001b[?25hCollecting simplejson (from comet_ml)\n",
            "  Downloading simplejson-3.19.1-cp310-cp310-manylinux_2_5_x86_64.manylinux1_x86_64.manylinux_2_17_x86_64.manylinux2014_x86_64.whl (137 kB)\n",
            "\u001b[2K     \u001b[90m━━━━━━━━━━━━━━━━━━━━━━━━━━━━━━━━━━━━━━━\u001b[0m \u001b[32m137.9/137.9 kB\u001b[0m \u001b[31m2.2 MB/s\u001b[0m eta \u001b[36m0:00:00\u001b[0m\n",
            "\u001b[?25hRequirement already satisfied: six in /usr/local/lib/python3.10/dist-packages (from comet_ml) (1.16.0)\n",
            "Requirement already satisfied: urllib3>=1.21.1 in /usr/local/lib/python3.10/dist-packages (from comet_ml) (1.26.16)\n",
            "Collecting websocket-client<1.4.0,>=0.55.0 (from comet_ml)\n",
            "  Downloading websocket_client-1.3.3-py3-none-any.whl (54 kB)\n",
            "\u001b[2K     \u001b[90m━━━━━━━━━━━━━━━━━━━━━━━━━━━━━━━━━━━━━━━━\u001b[0m \u001b[32m54.3/54.3 kB\u001b[0m \u001b[31m5.0 MB/s\u001b[0m eta \u001b[36m0:00:00\u001b[0m\n",
            "\u001b[?25hRequirement already satisfied: wrapt>=1.11.2 in /usr/local/lib/python3.10/dist-packages (from comet_ml) (1.14.1)\n",
            "Collecting wurlitzer>=1.0.2 (from comet_ml)\n",
            "  Downloading wurlitzer-3.0.3-py3-none-any.whl (7.3 kB)\n",
            "Collecting everett[ini]<3.2.0,>=1.0.1 (from comet_ml)\n",
            "  Downloading everett-3.1.0-py2.py3-none-any.whl (35 kB)\n",
            "Collecting dulwich!=0.20.33,>=0.20.6 (from comet_ml)\n",
            "  Downloading dulwich-0.21.5-cp310-cp310-manylinux_2_17_x86_64.manylinux2014_x86_64.whl (510 kB)\n",
            "\u001b[2K     \u001b[90m━━━━━━━━━━━━━━━━━━━━━━━━━━━━━━━━━━━━━━\u001b[0m \u001b[32m510.1/510.1 kB\u001b[0m \u001b[31m21.0 MB/s\u001b[0m eta \u001b[36m0:00:00\u001b[0m\n",
            "\u001b[?25hRequirement already satisfied: rich>=13.3.2 in /usr/local/lib/python3.10/dist-packages (from comet_ml) (13.4.2)\n",
            "Collecting configobj (from everett[ini]<3.2.0,>=1.0.1->comet_ml)\n",
            "  Downloading configobj-5.0.8-py2.py3-none-any.whl (36 kB)\n",
            "Requirement already satisfied: attrs>=17.4.0 in /usr/local/lib/python3.10/dist-packages (from jsonschema!=3.1.0,>=2.6.0->comet_ml) (23.1.0)\n",
            "Requirement already satisfied: pyrsistent!=0.17.0,!=0.17.1,!=0.17.2,>=0.14.0 in /usr/local/lib/python3.10/dist-packages (from jsonschema!=3.1.0,>=2.6.0->comet_ml) (0.19.3)\n",
            "Requirement already satisfied: certifi>=2017.4.17 in /usr/local/lib/python3.10/dist-packages (from requests>=2.18.4->comet_ml) (2023.5.7)\n",
            "Requirement already satisfied: charset-normalizer~=2.0.0 in /usr/local/lib/python3.10/dist-packages (from requests>=2.18.4->comet_ml) (2.0.12)\n",
            "Requirement already satisfied: idna<4,>=2.5 in /usr/local/lib/python3.10/dist-packages (from requests>=2.18.4->comet_ml) (3.4)\n",
            "Requirement already satisfied: markdown-it-py>=2.2.0 in /usr/local/lib/python3.10/dist-packages (from rich>=13.3.2->comet_ml) (3.0.0)\n",
            "Requirement already satisfied: pygments<3.0.0,>=2.13.0 in /usr/local/lib/python3.10/dist-packages (from rich>=13.3.2->comet_ml) (2.14.0)\n",
            "Requirement already satisfied: mdurl~=0.1 in /usr/local/lib/python3.10/dist-packages (from markdown-it-py>=2.2.0->rich>=13.3.2->comet_ml) (0.1.2)\n",
            "Installing collected packages: everett, wurlitzer, websocket-client, simplejson, sentry-sdk, semantic-version, python-box, dulwich, configobj, requests-toolbelt, comet_ml\n",
            "  Attempting uninstall: websocket-client\n",
            "    Found existing installation: websocket-client 1.6.1\n",
            "    Uninstalling websocket-client-1.6.1:\n",
            "      Successfully uninstalled websocket-client-1.6.1\n",
            "Successfully installed comet_ml-3.33.6 configobj-5.0.8 dulwich-0.21.5 everett-3.1.0 python-box-6.1.0 requests-toolbelt-1.0.0 semantic-version-2.10.0 sentry-sdk-1.28.1 simplejson-3.19.1 websocket-client-1.3.3 wurlitzer-3.0.3\n"
          ]
        },
        {
          "name": "stderr",
          "output_type": "stream",
          "text": [
            "\u001b[1;38;5;214mCOMET WARNING:\u001b[0m As you are running in a Jupyter environment, you will need to call `experiment.end()` when finished to ensure all metrics and code are logged before exiting.\n",
            "\u001b[1;38;5;39mCOMET INFO:\u001b[0m Couldn't find a Git repository in '/content' nor in any parent directory. Set `COMET_GIT_DIRECTORY` if your Git Repository is elsewhere.\n",
            "\u001b[1;38;5;39mCOMET INFO:\u001b[0m Experiment is live on comet.com https://www.comet.com/kpstufforigins/monitorizaci-n-final/158635b96892414daaa1c430d14166ad\n",
            "\n"
          ]
        }
      ],
      "source": [
        "%pip install comet_ml\n",
        "from comet_ml import Experiment\n",
        "from comet_ml.integration.pytorch import log_model\n",
        "experiment = Experiment(\n",
        "  api_key = \"g208he4vUVLoAY4sFmdPGDBDO\",\n",
        "  project_name = \"Monitorización Final\",\n",
        "  workspace=\"kpstufforigins\",\n",
        "  log_code=True,\n",
        "  log_graph=True,\n",
        ")\n",
        "experiment.add_tag(\"CycleGAN 1\")"
      ],
      "id": "A7LeESSawpzf"
    },
    {
      "cell_type": "code",
      "execution_count": null,
      "metadata": {
        "colab": {
          "base_uri": "https://localhost:8080/"
        },
        "id": "SOeCVWAan0RJ",
        "outputId": "24edec4a-cd03-49d3-d3fc-689c768eb3a4"
      },
      "outputs": [
        {
          "name": "stdout",
          "output_type": "stream",
          "text": [
            "Mounted at /content/drive\n"
          ]
        }
      ],
      "source": [
        "from google.colab import drive\n",
        "import zipfile\n",
        "drive.mount('/content/drive')\n",
        "with zipfile.ZipFile('/content/drive/MyDrive/TFG/UTK_Corto.zip', 'r') as zip_ref:\n",
        "    zip_ref.extractall('.')"
      ],
      "id": "SOeCVWAan0RJ"
    },
    {
      "cell_type": "code",
      "execution_count": null,
      "metadata": {
        "id": "e267652e"
      },
      "outputs": [],
      "source": [
        "import torch\n",
        "import albumentations as A\n",
        "from albumentations.pytorch import ToTensorV2\n",
        "\n",
        "DEVICE = \"cuda\" if torch.cuda.is_available() else \"cpu\"\n",
        "TRAIN_DIR = \".\"\n",
        "VAL_DIR = \".\"\n",
        "BATCH_SIZE = 4\n",
        "LEARNING_RATE = 1e-4\n",
        "LAMBDA_IDENTITY = 0.02\n",
        "LAMBDA_CYCLE = 10\n",
        "NUM_WORKERS = 4\n",
        "NUM_EPOCHS = 1500\n",
        "LOAD_MODEL = False\n",
        "SAVE_MODEL = True\n",
        "CHECKPOINT_GEN_H = \"genh.pth.tar\"\n",
        "CHECKPOINT_GEN_Z = \"genz.pth.tar\"\n",
        "CHECKPOINT_CRITIC_H = \"critich.pth.tar\"\n",
        "CHECKPOINT_CRITIC_Z = \"criticz.pth.tar\"\n",
        "\n",
        "transforms = A.Compose(\n",
        "    [\n",
        "        A.Resize(width=256, height=256),\n",
        "        A.HorizontalFlip(p=0.5),\n",
        "        A.Normalize(mean=[0.5, 0.5, 0.5], std=[0.5, 0.5, 0.5], max_pixel_value=255),\n",
        "        ToTensorV2(),\n",
        "    ],\n",
        "    additional_targets={\"image0\": \"image\"},\n",
        ")\n",
        "from prettytable import PrettyTable\n",
        "\n",
        "def count_parameters(model):\n",
        "    table = PrettyTable([\"Modules\", \"Parameters\"])\n",
        "    total_params = 0\n",
        "    for name, parameter in model.named_parameters():\n",
        "        if not parameter.requires_grad:\n",
        "            continue\n",
        "        params = parameter.numel()\n",
        "        table.add_row([name, params])\n",
        "        total_params += params\n",
        "    print(table)\n",
        "    print(f\"Total Trainable Params: {total_params}\")\n",
        "    return total_params"
      ],
      "id": "e267652e"
    },
    {
      "cell_type": "code",
      "execution_count": null,
      "metadata": {
        "id": "d1057bb9"
      },
      "outputs": [],
      "source": [
        "from PIL import Image\n",
        "import os\n",
        "from torch.utils.data import Dataset\n",
        "import numpy as np\n",
        "\n",
        "class HorseZebraDataset(Dataset):\n",
        "    def __init__(self, root_zebra, root_horse, transform=None):\n",
        "        self.root_zebra = root_zebra\n",
        "        self.root_horse = root_horse\n",
        "        self.transform = transform\n",
        "\n",
        "        self.zebra_images = os.listdir(root_zebra)\n",
        "        self.horse_images = os.listdir(root_horse)\n",
        "        self.length_dataset = max(len(self.zebra_images), len(self.horse_images)) # 1000, 1500\n",
        "        self.zebra_len = len(self.zebra_images)\n",
        "        self.horse_len = len(self.horse_images)\n",
        "\n",
        "    def __len__(self):\n",
        "        return self.length_dataset\n",
        "\n",
        "    def __getitem__(self, index):\n",
        "        zebra_img = self.zebra_images[index % self.zebra_len]\n",
        "        horse_img = self.horse_images[index % self.horse_len]\n",
        "\n",
        "        zebra_path = os.path.join(self.root_zebra, zebra_img)\n",
        "        horse_path = os.path.join(self.root_horse, horse_img)\n",
        "\n",
        "        zebra_img = np.array(Image.open(zebra_path).convert(\"RGB\"))\n",
        "        horse_img = np.array(Image.open(horse_path).convert(\"RGB\"))\n",
        "\n",
        "        if self.transform:\n",
        "            augmentations = self.transform(image=zebra_img, image0=horse_img)\n",
        "            zebra_img = augmentations[\"image\"]\n",
        "            horse_img = augmentations[\"image0\"]\n",
        "\n",
        "        return zebra_img, horse_img"
      ],
      "id": "d1057bb9"
    },
    {
      "cell_type": "code",
      "execution_count": null,
      "metadata": {
        "colab": {
          "base_uri": "https://localhost:8080/"
        },
        "id": "Q-aYp1qFLsP4",
        "outputId": "b5653f42-30c3-4d81-b4f4-119e16d35fdf"
      },
      "outputs": [
        {
          "name": "stdout",
          "output_type": "stream",
          "text": [
            "img_size: 256\n",
            "tensor([[[[-3.7182e-01,  3.3837e-01,  4.9128e-01,  2.5815e-01, -3.2767e-01,\n",
            "            2.9515e-01, -1.3654e-01, -1.5600e-01, -2.6314e-02, -2.6881e-01,\n",
            "           -4.1931e-01,  3.9636e-01, -8.5987e-02, -4.9797e-02,  3.7645e-01,\n",
            "            4.8303e-01,  2.2051e-01,  1.5544e-01, -3.9137e-01,  3.6529e-01,\n",
            "           -4.9795e-02, -4.5846e-01, -2.2561e-01, -2.6378e-01, -2.6027e-01,\n",
            "           -9.2613e-02, -5.0412e-01, -1.6145e-01, -6.4615e-02, -6.9973e-02],\n",
            "          [-9.1032e-02,  4.2562e-02,  3.1877e-01,  1.8649e-01,  1.0428e+00,\n",
            "            3.1256e-01,  3.8047e-01, -2.3131e-01,  6.5830e-01, -1.6348e-01,\n",
            "            1.9473e-01,  3.9130e-01,  1.0926e-01, -1.9741e-01,  7.2733e-01,\n",
            "           -6.0729e-02,  2.9468e-01, -3.5929e-01, -5.2294e-02,  1.2359e-01,\n",
            "            8.8372e-02,  4.4359e-01,  8.4469e-01, -1.0356e-01,  6.7799e-01,\n",
            "           -3.9814e-01, -4.4679e-01,  7.4092e-01, -3.4026e-01,  2.3135e-01],\n",
            "          [ 3.3330e-01,  8.9109e-01,  4.1107e-01, -5.2675e-02,  8.9698e-01,\n",
            "            1.4625e-01,  4.1161e-01, -1.5898e-01,  4.5806e-01, -1.5975e-02,\n",
            "            3.8356e-01,  1.5356e-01,  4.0673e-01,  5.7890e-01,  2.1643e-01,\n",
            "            7.8854e-02,  2.7479e-01,  2.7084e-01,  2.0625e-01,  3.4666e-01,\n",
            "           -2.0896e-01,  4.2393e-01,  1.0909e-01, -2.4141e-01, -2.6041e-01,\n",
            "            3.9624e-02,  2.0762e-02,  3.6212e-01, -1.6951e-01,  3.9456e-01],\n",
            "          [ 1.0988e-02,  8.1297e-01, -1.0129e-02,  2.3842e-01,  5.2555e-01,\n",
            "            1.7999e-01, -1.3781e-01,  2.5264e-01, -1.8276e-01, -4.8781e-01,\n",
            "           -1.3369e-01, -8.6988e-02,  4.3868e-01,  5.7647e-01,  2.0387e-01,\n",
            "            7.7603e-02, -1.3905e-01,  4.5335e-01,  8.6737e-01, -1.1566e-02,\n",
            "            7.7019e-01, -2.0631e-01, -1.0277e-01,  1.1053e-01,  3.6086e-01,\n",
            "           -1.2960e-01,  5.7196e-02, -5.0403e-01, -1.0319e-01,  2.1656e-01],\n",
            "          [-2.5208e-01,  8.1784e-01, -6.5916e-01, -3.5173e-02,  3.2004e-01,\n",
            "            3.6173e-01,  9.7485e-01,  9.7554e-02,  2.5244e-01,  6.2543e-01,\n",
            "            2.3821e-01,  5.9559e-01, -5.9696e-01,  4.7358e-01, -3.1962e-01,\n",
            "           -5.0760e-01, -2.6302e-01,  1.0507e-02,  6.5494e-01, -8.9096e-03,\n",
            "           -3.0522e-03,  1.7277e-01,  7.3991e-02,  3.5378e-01,  1.6099e-01,\n",
            "            2.5790e-01,  1.0102e-01,  7.8510e-01,  9.8294e-01,  3.7089e-02],\n",
            "          [-3.3072e-01, -3.7342e-01,  7.8931e-02,  6.6106e-01,  1.3423e-01,\n",
            "            1.0783e+00, -5.4579e-01,  2.9453e-01,  7.2821e-02, -3.7468e-01,\n",
            "            4.9704e-01,  2.5833e-01, -3.3671e-01, -1.8068e-01,  6.7948e-01,\n",
            "            8.1115e-01,  7.9099e-02,  5.3768e-01, -1.7143e-01,  4.2842e-01,\n",
            "            5.8706e-01,  1.7664e-01, -1.4846e-01,  7.0241e-01,  1.1756e-01,\n",
            "            8.8157e-02,  4.8485e-01, -6.3722e-01, -1.2349e-01,  5.4582e-01],\n",
            "          [ 2.2396e-01,  4.0767e-02,  1.9567e-01,  4.8264e-01,  7.0319e-01,\n",
            "           -8.9441e-02, -5.0721e-02,  5.2459e-02,  2.3576e-01, -4.8137e-02,\n",
            "           -3.3409e-01,  1.0701e+00, -2.4982e-01,  1.7038e-01,  5.0375e-01,\n",
            "            2.7450e-01,  9.0964e-01,  5.9125e-02,  1.0073e+00,  3.2486e-01,\n",
            "            1.6100e-02,  5.5885e-01, -1.7450e-01,  2.1514e-01,  1.9547e-01,\n",
            "            2.5389e-01,  3.5591e-01,  1.8815e-01,  6.1464e-01,  2.7321e-01],\n",
            "          [ 6.5050e-02,  5.8842e-01,  7.9574e-01,  3.7441e-01, -7.2536e-02,\n",
            "            6.0251e-02,  6.0062e-01,  4.1292e-01,  2.5715e-01,  9.1607e-02,\n",
            "            1.5760e-01,  1.2300e-01,  7.1118e-01,  1.6046e-01, -5.8345e-01,\n",
            "            5.3626e-01,  4.2618e-01,  2.3646e-01, -6.2549e-01,  1.4936e-01,\n",
            "            4.9807e-01, -1.1035e-01, -2.4996e-01,  7.6151e-01,  1.0219e-01,\n",
            "            4.4338e-01, -4.5385e-03,  9.7118e-02,  7.5651e-02,  3.9755e-01],\n",
            "          [ 2.4135e-01,  5.1584e-01, -9.7442e-02,  6.4043e-01,  1.4598e-01,\n",
            "            2.2847e-01,  8.6398e-01,  5.9292e-01, -1.1019e-01,  7.4840e-01,\n",
            "            4.2494e-01,  3.7506e-01,  7.9401e-01, -1.0014e-01,  2.9271e-01,\n",
            "           -4.4542e-01,  5.8813e-01,  6.6563e-01,  1.2947e-01, -2.9187e-01,\n",
            "            2.1667e-01,  3.6256e-01,  2.2544e-02,  5.9900e-01,  2.7214e-01,\n",
            "           -5.5249e-01,  1.5495e-01,  6.4009e-01,  2.5603e-01,  2.1768e-01],\n",
            "          [ 4.3196e-01,  2.1551e-01,  1.9755e-02,  3.2137e-01,  2.1970e-01,\n",
            "            2.8862e-01, -2.2074e-01,  5.9651e-01,  9.0712e-02,  6.7697e-01,\n",
            "            9.2006e-02, -5.9330e-02, -6.0640e-02, -3.9220e-01, -2.6076e-01,\n",
            "            4.5544e-01,  5.7833e-01, -5.2462e-01,  1.4756e-01, -6.5793e-02,\n",
            "           -2.2330e-01,  5.0866e-01,  7.1121e-01,  9.9162e-02,  5.6807e-01,\n",
            "           -1.9040e-01,  5.0815e-01, -3.4709e-01,  2.0076e-01,  9.6480e-02],\n",
            "          [-4.1900e-01, -1.4252e-01,  1.3928e-03,  7.7064e-01,  3.7176e-01,\n",
            "            6.8622e-01,  7.9670e-01,  9.2240e-02, -2.2290e-01,  3.9016e-01,\n",
            "            3.4383e-01,  5.5651e-01,  5.7801e-01,  4.6789e-02,  8.1671e-02,\n",
            "           -5.5982e-01, -2.9078e-01,  8.0364e-01,  6.4511e-01,  6.7905e-01,\n",
            "            1.0567e-01, -4.4463e-02, -3.7513e-02, -2.2886e-01, -2.7037e-01,\n",
            "            3.6709e-01,  9.1029e-02, -2.5672e-01,  3.3963e-01,  8.8035e-01],\n",
            "          [-4.6456e-02,  6.1887e-01,  2.5040e-03, -3.1663e-01, -2.1088e-01,\n",
            "           -2.2480e-01,  3.3756e-01,  2.9548e-01, -5.3991e-02,  4.9387e-01,\n",
            "            1.9433e-01,  4.6222e-01, -2.4495e-01,  4.9258e-01, -1.5076e-01,\n",
            "            3.5892e-02,  3.3707e-01,  8.9220e-03, -1.6472e-01, -6.4315e-01,\n",
            "            4.0652e-01,  2.3741e-01, -2.4438e-02,  4.5257e-01, -1.7049e-01,\n",
            "            4.3735e-01,  5.6354e-01,  5.0833e-01,  2.9647e-01,  9.4993e-02],\n",
            "          [ 2.6953e-01,  2.0547e-01,  1.8942e-01, -1.0429e-01,  4.2299e-01,\n",
            "            4.1089e-01,  7.0298e-01, -1.0121e-01, -1.5869e-01,  4.1087e-01,\n",
            "            6.2122e-03,  5.9981e-01,  8.2339e-01, -2.1674e-01,  2.2984e-01,\n",
            "            7.4672e-02,  3.3856e-01,  4.9223e-01, -2.1022e-02, -2.9301e-01,\n",
            "            8.7959e-01, -1.7236e-02, -3.2258e-01,  4.3026e-01, -1.7956e-01,\n",
            "            4.7116e-01, -8.0017e-02,  3.2636e-01,  3.1162e-01,  3.7355e-01],\n",
            "          [-2.3288e-01,  3.8523e-01,  6.7230e-01,  1.7352e-01, -2.2092e-01,\n",
            "            3.7197e-01,  7.4830e-01,  3.1341e-01,  6.5038e-01,  5.2679e-01,\n",
            "            7.2678e-01,  4.7495e-01,  4.9844e-01,  2.1954e-01, -1.3543e-01,\n",
            "           -6.9841e-02,  1.2105e-01,  5.0119e-01,  9.6713e-02,  4.4604e-01,\n",
            "            5.7658e-01,  5.6802e-01, -1.6397e-01,  1.1226e+00,  1.7613e-02,\n",
            "            1.5131e-01,  3.2848e-01,  4.6356e-01,  6.2801e-01,  8.6426e-01],\n",
            "          [-5.7903e-01,  1.0459e+00,  3.2142e-01, -2.1360e-01,  3.5537e-01,\n",
            "            2.0458e-01, -1.3431e-01,  2.7022e-01,  2.3177e-01,  2.7708e-01,\n",
            "            2.0514e-01, -1.4166e-01,  2.4222e-01, -4.0275e-01,  5.3358e-01,\n",
            "            1.0096e+00, -6.9582e-01,  4.5423e-01,  1.8713e-01, -4.4717e-02,\n",
            "            1.1160e-01, -5.7052e-02, -1.3324e-01,  4.3752e-01, -7.2392e-02,\n",
            "            1.6979e-01,  6.2043e-01,  6.7433e-01,  1.1792e-01,  9.4789e-01],\n",
            "          [-5.2265e-01,  5.6246e-02,  6.7261e-01,  3.6132e-01,  9.1046e-02,\n",
            "            1.9758e-01,  1.2284e-01, -2.2738e-01,  2.1458e-01,  8.5888e-02,\n",
            "           -1.5796e-01,  1.5706e-01,  3.7303e-01,  4.2166e-02, -5.3449e-01,\n",
            "           -1.2609e-01,  7.3484e-01,  2.0007e-01, -1.8873e-01,  2.4490e-01,\n",
            "           -8.5127e-04,  7.2166e-01,  1.7463e-01,  2.6791e-01,  1.5619e-01,\n",
            "           -2.8980e-01,  6.1749e-01,  1.4499e-01,  1.5413e-01,  3.7011e-01],\n",
            "          [-2.3692e-02, -1.5027e-01,  6.3791e-02, -5.7194e-02, -2.2127e-02,\n",
            "            7.9099e-01,  1.7551e-01, -3.8014e-01,  2.5850e-01, -3.6385e-01,\n",
            "            1.9787e-01, -3.4860e-01,  9.3397e-01,  1.0322e-01, -4.4994e-02,\n",
            "            6.3371e-01,  3.6690e-01, -2.8986e-02,  2.4061e-01,  1.8238e-01,\n",
            "            1.8897e-01,  1.0845e-01,  6.3670e-01,  2.3499e-01,  6.7127e-02,\n",
            "            1.0718e+00,  1.8116e-01,  9.6006e-01, -2.2485e-01,  6.7255e-01],\n",
            "          [ 4.6922e-03, -8.4174e-02,  2.5150e-01,  8.1735e-01,  2.6613e-01,\n",
            "            6.1315e-01,  5.5132e-01,  8.4839e-01,  6.3624e-02,  1.6501e-01,\n",
            "            4.8745e-01,  2.4766e-01,  3.8308e-01,  1.1239e-02,  1.7569e-01,\n",
            "           -3.0502e-01, -6.0835e-01, -4.5764e-01, -1.0321e-01,  8.8598e-01,\n",
            "           -7.6778e-01, -3.0144e-02, -3.4746e-01,  5.8743e-01,  3.1476e-01,\n",
            "            3.8668e-01,  9.3801e-01,  1.6219e-01, -2.6011e-03,  2.1758e-01],\n",
            "          [ 5.4832e-01,  5.6211e-01,  4.3890e-01,  3.8030e-01,  4.1339e-01,\n",
            "            3.9321e-02,  6.3850e-01,  2.6758e-02,  6.4059e-01,  3.6216e-01,\n",
            "            8.5860e-01, -6.7126e-03, -2.7071e-01,  3.7010e-01,  5.6152e-01,\n",
            "            4.2369e-01,  9.3134e-01,  3.9756e-01,  7.0935e-03, -2.4607e-01,\n",
            "            5.4866e-01, -9.2996e-03,  2.2348e-01,  2.8238e-01,  1.0693e-01,\n",
            "            3.6301e-01,  1.0309e-01,  1.0105e+00, -2.4858e-01, -1.0407e-01],\n",
            "          [-7.9652e-02,  3.2934e-01,  2.6788e-01,  4.1905e-02, -4.2027e-01,\n",
            "            3.2738e-01,  1.8162e-01, -7.2029e-01,  6.9671e-01,  3.7346e-01,\n",
            "           -2.7037e-01,  3.8960e-01,  4.1801e-01,  2.0344e-02,  2.3485e-01,\n",
            "            5.4225e-01, -1.8136e-01,  3.1484e-01,  6.3401e-01, -3.3732e-01,\n",
            "            6.8282e-01, -2.4880e-01,  3.5690e-01,  2.3869e-01,  2.4175e-02,\n",
            "            3.1881e-01,  4.5735e-01, -1.5099e-02,  3.0184e-01, -3.9479e-01],\n",
            "          [ 1.2918e-02,  6.4278e-01,  8.8973e-02,  4.1621e-01, -2.3381e-01,\n",
            "            6.0596e-01, -8.5921e-02, -1.6427e-02, -1.8461e-01,  6.0039e-01,\n",
            "            4.7041e-01, -1.0159e-01,  5.3946e-01,  3.4914e-01, -1.4005e-01,\n",
            "           -3.9929e-02, -1.4584e-01,  9.4075e-01,  6.3309e-01,  7.4568e-02,\n",
            "           -1.0446e-01,  6.2203e-01,  9.6498e-01, -8.5478e-02, -1.0629e-01,\n",
            "           -2.7687e-01,  4.7482e-02,  5.1649e-01, -4.4748e-01, -2.4361e-01],\n",
            "          [ 1.9839e-01, -2.8213e-01, -2.3701e-01,  7.0515e-01,  5.4020e-01,\n",
            "           -2.6498e-01,  6.5735e-01,  2.5734e-01,  1.9356e-01,  1.7597e-01,\n",
            "            3.8894e-01,  4.6006e-01,  5.1802e-01,  6.8389e-02, -3.9197e-02,\n",
            "            3.2856e-01,  1.4363e-01,  7.1250e-01, -2.6155e-02, -6.0590e-01,\n",
            "            6.1723e-01,  3.5473e-01,  3.4177e-01,  6.5307e-01,  1.1314e+00,\n",
            "           -3.8463e-02,  5.3422e-01,  7.1093e-01,  3.7432e-01,  1.7475e-01],\n",
            "          [-1.1134e-01,  5.0793e-01,  1.6400e-01,  8.9974e-02,  6.9955e-01,\n",
            "           -1.8595e-01, -4.1872e-01, -1.1305e-02,  4.9247e-02,  2.9771e-01,\n",
            "            6.1729e-01, -1.6986e-01,  4.6175e-01, -3.2778e-01,  6.5053e-02,\n",
            "            1.0211e+00,  4.9401e-01,  2.1253e-01, -7.8141e-03,  5.3691e-01,\n",
            "           -3.7969e-01,  3.3529e-02,  1.9631e-01, -2.4393e-01,  7.9843e-01,\n",
            "            3.1587e-01,  8.5874e-01,  6.2493e-01,  2.0608e-01, -3.3833e-01],\n",
            "          [-5.2491e-01,  1.3354e-01, -1.3517e-01,  4.6046e-01,  5.5726e-02,\n",
            "            4.6647e-01,  7.3089e-01,  2.7374e-01, -8.5530e-01,  3.5912e-01,\n",
            "            2.2380e-01,  5.6088e-01,  1.7590e-01,  2.3532e-01,  7.7577e-01,\n",
            "            1.9030e-01, -9.5503e-02,  2.5528e-01,  5.4838e-01, -9.8462e-02,\n",
            "           -2.4739e-01,  4.8199e-02,  1.1855e-01, -5.0839e-01,  8.2991e-01,\n",
            "            6.3644e-01, -1.8588e-01,  2.8085e-01,  6.7106e-01,  1.3299e-01],\n",
            "          [ 3.1773e-01,  2.3160e-01,  3.4188e-01, -1.8584e-01,  3.0792e-01,\n",
            "            8.2004e-02, -2.1785e-01,  6.7583e-01,  3.3460e-02, -1.6903e-04,\n",
            "            7.8626e-01,  8.0984e-01,  3.9670e-01, -3.7438e-01, -3.9979e-02,\n",
            "            3.5417e-01, -6.9271e-02,  7.1965e-02,  3.1170e-01, -3.1422e-01,\n",
            "            2.6221e-02,  6.2238e-02,  7.3830e-02,  2.4371e-01,  3.5621e-01,\n",
            "            1.9548e-01, -3.6597e-01, -4.9755e-02, -2.6993e-01,  4.6247e-01],\n",
            "          [-8.3448e-02,  1.4471e-01,  4.1266e-01,  2.6280e-01, -3.3278e-01,\n",
            "            1.1593e-01,  5.0000e-01, -5.9974e-01,  2.2733e-02,  1.7543e-01,\n",
            "            8.7645e-01, -3.2974e-01,  7.3769e-01,  9.3267e-02,  6.5416e-01,\n",
            "           -6.1969e-01,  1.0593e-01,  3.9003e-01,  4.1172e-01, -8.6912e-02,\n",
            "            1.2411e+00,  3.3385e-01, -1.6897e-01, -2.5167e-01,  4.6662e-01,\n",
            "            1.1398e-01,  3.3370e-01,  6.7776e-01,  1.0298e-01,  2.1751e-01],\n",
            "          [ 3.1364e-01,  7.3053e-01,  5.7512e-01,  3.4032e-01,  5.2044e-01,\n",
            "           -1.5788e-01,  4.5353e-01,  6.0781e-01,  3.8903e-01, -2.5586e-01,\n",
            "            1.7026e-01,  1.4005e-01,  7.3486e-01,  2.4843e-02, -1.0891e-02,\n",
            "           -3.1433e-02,  7.1932e-01,  1.7091e+00,  2.9887e-01,  6.5101e-01,\n",
            "            7.7264e-01,  3.2276e-01,  5.3225e-01, -1.7284e-01,  6.2716e-02,\n",
            "            2.1541e-01,  5.8842e-01,  7.1821e-01,  1.7357e-01,  1.9101e-01],\n",
            "          [-4.1601e-01,  5.9161e-02,  3.7060e-01,  5.4321e-01,  3.5730e-01,\n",
            "            3.4602e-01,  6.5520e-01, -2.3421e-01,  3.3340e-01, -3.6945e-01,\n",
            "            2.0899e-01, -1.8625e-01, -4.0018e-02,  5.0363e-01,  6.7001e-01,\n",
            "            7.0082e-01,  6.1117e-01, -1.0110e+00,  6.0397e-01,  1.6613e-01,\n",
            "           -4.3535e-01, -5.4864e-01, -5.2655e-01, -3.6137e-01,  7.5728e-01,\n",
            "           -1.3921e-01,  4.5723e-01,  1.4345e-01,  4.2496e-02,  6.8346e-02],\n",
            "          [ 6.1708e-01,  1.3316e-01, -8.3779e-02, -8.6345e-01,  1.0595e-01,\n",
            "            4.8734e-01,  2.8717e-01,  3.7644e-01, -2.8664e-01,  3.5054e-01,\n",
            "           -6.8297e-01,  4.6555e-02,  1.9987e-01,  1.1001e+00,  4.4442e-01,\n",
            "            2.6900e-01, -1.7343e-01,  1.6025e-02,  5.9824e-01,  8.6157e-01,\n",
            "            4.0265e-03,  4.0726e-01, -1.6661e-01,  1.8771e-01,  2.8512e-01,\n",
            "            3.5228e-01,  2.1830e-01,  1.8084e-01, -1.9552e-01, -3.3333e-02],\n",
            "          [ 3.6231e-01,  2.4410e-01,  7.8430e-01,  5.5224e-01,  7.2882e-01,\n",
            "           -8.6643e-03,  7.8489e-01,  5.2370e-01,  3.9945e-01,  3.5569e-01,\n",
            "            3.4489e-01,  3.0693e-01,  1.9268e-01,  8.6247e-01, -7.7008e-02,\n",
            "            6.3706e-01,  9.5910e-01,  8.2505e-01,  2.9218e-01,  6.9440e-01,\n",
            "            4.4979e-01,  4.1002e-01,  4.8156e-01,  4.3880e-01,  1.1622e-01,\n",
            "            7.1601e-01,  4.9819e-01,  3.2661e-03,  4.4645e-01,  3.1858e-01]]]],\n",
            "       device='cuda:0', grad_fn=<ConvolutionBackward0>)\n",
            "tensor(0.2064, device='cuda:0', grad_fn=<MeanBackward0>)\n",
            "torch.Size([1, 1, 30, 30])\n",
            "Discriminator(\n",
            "  (layers): Sequential(\n",
            "    (0): Conv2d(3, 64, kernel_size=(4, 4), stride=(2, 2), padding=(1, 1), bias=False)\n",
            "    (1): LeakyReLU(negative_slope=0.2, inplace=True)\n",
            "    (2): Conv2d(64, 128, kernel_size=(4, 4), stride=(2, 2), padding=(1, 1), bias=False)\n",
            "    (3): InstanceNorm2d(128, eps=1e-05, momentum=0.1, affine=False, track_running_stats=False)\n",
            "    (4): LeakyReLU(negative_slope=0.2, inplace=True)\n",
            "    (5): Conv2d(128, 256, kernel_size=(4, 4), stride=(2, 2), padding=(1, 1), bias=False)\n",
            "    (6): InstanceNorm2d(256, eps=1e-05, momentum=0.1, affine=False, track_running_stats=False)\n",
            "    (7): LeakyReLU(negative_slope=0.2, inplace=True)\n",
            "    (8): Conv2d(256, 512, kernel_size=(4, 4), stride=(1, 1), padding=(1, 1))\n",
            "    (9): InstanceNorm2d(512, eps=1e-05, momentum=0.1, affine=False, track_running_stats=False)\n",
            "    (10): LeakyReLU(negative_slope=0.2, inplace=True)\n",
            "    (11): Conv2d(512, 1, kernel_size=(4, 4), stride=(1, 1), padding=(1, 1))\n",
            "  )\n",
            ")\n"
          ]
        }
      ],
      "source": [
        "class Discriminator(nn.Module):\n",
        "    def __init__(self, img_size,channels =3, frontier=4, paso_de_canal=2):\n",
        "        super().__init__()\n",
        "        self.channels = channels\n",
        "        self.img_size = img_size\n",
        "        self.frontier = frontier\n",
        "        self.paso_de_canal = paso_de_canal\n",
        "        nc = channels\n",
        "        ndf = 64\n",
        "        self.layers = nn.Sequential(\n",
        "            # input is (nc) x 128 x 128\n",
        "            nn.Conv2d(nc,ndf,4,2,1, bias=False),\n",
        "            nn.LeakyReLU(0.2, inplace=True),\n",
        "            # state size. (ndf) x 64 x 64\n",
        "            nn.Conv2d(ndf,ndf*2,4,2,1, bias=False),\n",
        "            nn.InstanceNorm2d(ndf * 2),\n",
        "            nn.LeakyReLU(0.2, inplace=True),\n",
        "            # state size. (ndf*2) x 32 x 32\n",
        "            nn.Conv2d(ndf*2, ndf * 4, 4, 2, 1, bias=False),\n",
        "            nn.InstanceNorm2d(ndf * 4),\n",
        "            nn.LeakyReLU(0.2, inplace=True),\n",
        "\n",
        "            #ResidualBlock(ndf*4),\n",
        "            #ResidualBlock(ndf*4),\n",
        "\n",
        "            # state size. (ndf*4) x 16 x 16\n",
        "            nn.Conv2d(ndf*4,ndf*8,4,1,1),\n",
        "            nn.InstanceNorm2d(ndf*8),\n",
        "            nn.LeakyReLU(0.2, inplace=True),\n",
        "            # state size. (ndf*8) x 15 x 15\n",
        "            nn.Conv2d(ndf*8,1,4,1,1)\n",
        "            # state size. 1 x 14 x 14\n",
        "        )\n",
        "\n",
        "        return\n",
        "\n",
        "    def forward(self, x):\n",
        "      #print(f\"input shape: {x.shape}\")\n",
        "      return self.layers(x)\n",
        "\n",
        "def test(i):\n",
        "    img_size = i\n",
        "    model = Discriminator(img_size, frontier=2,channels=3).to(DEVICE)\n",
        "\n",
        "    print(f\"img_size: {img_size}\")\n",
        "    x = torch.randn((1,3,img_size,img_size)).to(DEVICE)\n",
        "\n",
        "    print(model(x))\n",
        "    print(torch.mean(model(x)))\n",
        "    print(model(x).shape)\n",
        "    print(model)\n",
        "    return\n",
        "\n",
        "test(256)\n"
      ],
      "id": "Q-aYp1qFLsP4"
    },
    {
      "cell_type": "code",
      "execution_count": null,
      "metadata": {
        "colab": {
          "base_uri": "https://localhost:8080/"
        },
        "id": "dc590a99",
        "outputId": "08d022ec-28b7-4b2b-e1f9-99e29e88489b"
      },
      "outputs": [
        {
          "name": "stdout",
          "output_type": "stream",
          "text": [
            "torch.Size([2, 3, 256, 256])\n",
            "+-------------------------------------------+------------+\n",
            "|                  Modules                  | Parameters |\n",
            "+-------------------------------------------+------------+\n",
            "|         model_sequential.0.weight         |    1728    |\n",
            "|          model_sequential.0.bias          |     64     |\n",
            "|         model_sequential.3.weight         |   73728    |\n",
            "|          model_sequential.3.bias          |    128     |\n",
            "|         model_sequential.6.weight         |   294912   |\n",
            "|          model_sequential.6.bias          |    256     |\n",
            "|  model_sequential.9.block.0.conv.0.weight |   589824   |\n",
            "|   model_sequential.9.block.0.conv.0.bias  |    256     |\n",
            "|  model_sequential.9.block.1.conv.0.weight |   589824   |\n",
            "|   model_sequential.9.block.1.conv.0.bias  |    256     |\n",
            "| model_sequential.10.block.0.conv.0.weight |   589824   |\n",
            "|  model_sequential.10.block.0.conv.0.bias  |    256     |\n",
            "| model_sequential.10.block.1.conv.0.weight |   589824   |\n",
            "|  model_sequential.10.block.1.conv.0.bias  |    256     |\n",
            "| model_sequential.11.block.0.conv.0.weight |   589824   |\n",
            "|  model_sequential.11.block.0.conv.0.bias  |    256     |\n",
            "| model_sequential.11.block.1.conv.0.weight |   589824   |\n",
            "|  model_sequential.11.block.1.conv.0.bias  |    256     |\n",
            "| model_sequential.12.block.0.conv.0.weight |   589824   |\n",
            "|  model_sequential.12.block.0.conv.0.bias  |    256     |\n",
            "| model_sequential.12.block.1.conv.0.weight |   589824   |\n",
            "|  model_sequential.12.block.1.conv.0.bias  |    256     |\n",
            "| model_sequential.13.block.0.conv.0.weight |   589824   |\n",
            "|  model_sequential.13.block.0.conv.0.bias  |    256     |\n",
            "| model_sequential.13.block.1.conv.0.weight |   589824   |\n",
            "|  model_sequential.13.block.1.conv.0.bias  |    256     |\n",
            "| model_sequential.14.block.0.conv.0.weight |   589824   |\n",
            "|  model_sequential.14.block.0.conv.0.bias  |    256     |\n",
            "| model_sequential.14.block.1.conv.0.weight |   589824   |\n",
            "|  model_sequential.14.block.1.conv.0.bias  |    256     |\n",
            "| model_sequential.15.block.0.conv.0.weight |   589824   |\n",
            "|  model_sequential.15.block.0.conv.0.bias  |    256     |\n",
            "| model_sequential.15.block.1.conv.0.weight |   589824   |\n",
            "|  model_sequential.15.block.1.conv.0.bias  |    256     |\n",
            "| model_sequential.16.block.0.conv.0.weight |   589824   |\n",
            "|  model_sequential.16.block.0.conv.0.bias  |    256     |\n",
            "| model_sequential.16.block.1.conv.0.weight |   589824   |\n",
            "|  model_sequential.16.block.1.conv.0.bias  |    256     |\n",
            "| model_sequential.17.block.0.conv.0.weight |   589824   |\n",
            "|  model_sequential.17.block.0.conv.0.bias  |    256     |\n",
            "| model_sequential.17.block.1.conv.0.weight |   589824   |\n",
            "|  model_sequential.17.block.1.conv.0.bias  |    256     |\n",
            "|         model_sequential.19.weight        |   294912   |\n",
            "|          model_sequential.19.bias         |    128     |\n",
            "|         model_sequential.22.weight        |   73728    |\n",
            "|          model_sequential.22.bias         |     64     |\n",
            "|         model_sequential.24.weight        |    1728    |\n",
            "|          model_sequential.24.bias         |     3      |\n",
            "+-------------------------------------------+------------+\n",
            "Total Trainable Params: 11362819\n"
          ]
        }
      ],
      "source": [
        "import torch\n",
        "import torch.nn as nn\n",
        "\n",
        "\n",
        "class ConvBlock(nn.Module):\n",
        "    def __init__(self, in_channels, out_channels, down=True, use_act=True, **kwargs):\n",
        "        super().__init__()\n",
        "        self.conv = nn.Sequential(\n",
        "            nn.Conv2d(in_channels, out_channels, padding_mode=\"reflect\", **kwargs)\n",
        "            if down\n",
        "            else nn.ConvTranspose2d(in_channels, out_channels, **kwargs),\n",
        "            nn.InstanceNorm2d(out_channels),\n",
        "            nn.ReLU(inplace=True) if use_act else nn.Identity(),\n",
        "        )\n",
        "\n",
        "    def forward(self, x):\n",
        "        return self.conv(x)\n",
        "\n",
        "\n",
        "class ResidualBlock(nn.Module):\n",
        "    def __init__(self, channels):\n",
        "        super().__init__()\n",
        "        self.block = nn.Sequential(\n",
        "            ConvBlock(channels, channels, kernel_size=3, padding=1),\n",
        "            ConvBlock(channels, channels, use_act=False, kernel_size=3, padding=1),\n",
        "        )\n",
        "\n",
        "    def forward(self, x):\n",
        "        return x + self.block(x)\n",
        "\n",
        "\n",
        "class Generator(nn.Module):\n",
        "    def __init__(self, img_channels, num_features=64, num_residuals=9):\n",
        "        super().__init__()\n",
        "\n",
        "        #initial\n",
        "        self.model = [\n",
        "            nn.Conv2d(\n",
        "                img_channels,\n",
        "                num_features,\n",
        "                kernel_size=3,\n",
        "                stride=1,\n",
        "                padding=1,\n",
        "                padding_mode=\"reflect\",\n",
        "            ),\n",
        "            nn.InstanceNorm2d(num_features),\n",
        "            nn.ReLU(inplace=True),\n",
        "        ]\n",
        "\n",
        "        #downsampling\n",
        "        self.model += [\n",
        "                nn.Conv2d(\n",
        "                    num_features, num_features * 2, kernel_size=3,stride = 2, padding = 1),\n",
        "                nn.InstanceNorm2d(num_features * 2),\n",
        "                nn.ReLU(inplace=True),\n",
        "                nn.Conv2d(num_features * 2, num_features * 4, kernel_size=3, stride = 2, padding = 1),\n",
        "                nn.InstanceNorm2d(num_features * 4),\n",
        "                nn.ReLU(inplace=True),\n",
        "            ]\n",
        "\n",
        "        #latente space\n",
        "        self.model += [\n",
        "            *[ResidualBlock(num_features * 4) for _ in range(num_residuals)]\n",
        "        ]\n",
        "\n",
        "        #upsampling\n",
        "        self.model += [\n",
        "                nn.Upsample(scale_factor=2), # --> width*2, heigh*2\n",
        "                nn.Conv2d(num_features * 4, num_features * 2, 3, stride=1, padding=1),\n",
        "                nn.ReLU(inplace=True),\n",
        "                nn.Upsample(scale_factor=2), # --> width*2, heigh*2\n",
        "                nn.Conv2d(num_features * 2, num_features, 3, stride=1, padding=1),\n",
        "                nn.ReLU(inplace=True),\n",
        "\n",
        "            ]\n",
        "\n",
        "        self.model += [\n",
        "            #nn.ReflectionPad2d(2), # Pads the input tensor using the reflection of the input boundary\n",
        "            nn.Conv2d(\n",
        "            num_features * 1,\n",
        "            img_channels,\n",
        "            kernel_size=3,\n",
        "            stride=1,\n",
        "            padding=1,\n",
        "            padding_mode=\"reflect\",\n",
        "            ),\n",
        "            #nn.ReflectionPad2d(1),\n",
        "            nn.Tanh()\n",
        "        ]\n",
        "        self.model_sequential = nn.Sequential(*self.model)\n",
        "\n",
        "\n",
        "    def forward(self, x):\n",
        "        return self.model_sequential(x)\n",
        "\n",
        "\n",
        "def test():\n",
        "    img_channels = 3\n",
        "    img_size = 256\n",
        "    x = torch.randn((2, img_channels, img_size, img_size))\n",
        "    gen = Generator(img_channels)\n",
        "    print(gen(x).shape)\n",
        "    count_parameters(gen)\n",
        "\n",
        "if __name__ == \"__main__\":\n",
        "    test()\n"
      ],
      "id": "dc590a99"
    },
    {
      "cell_type": "code",
      "execution_count": null,
      "metadata": {
        "id": "0f7c5d91"
      },
      "outputs": [],
      "source": [
        "import random, torch, os, numpy as np\n",
        "import torch.nn as nn\n",
        "import copy\n",
        "\n",
        "def save_checkpoint(model, optimizer, filename=\"my_checkpoint.pth.tar\"):\n",
        "    print(\"=> Saving checkpoint\")\n",
        "    checkpoint = {\n",
        "        \"state_dict\": model.state_dict(),\n",
        "        \"optimizer\": optimizer.state_dict(),\n",
        "    }\n",
        "    torch.save(checkpoint, filename)\n",
        "\n",
        "\n",
        "def load_checkpoint(checkpoint_file, model, optimizer, lr):\n",
        "    print(\"=> Loading checkpoint\")\n",
        "    checkpoint = torch.load(checkpoint_file, map_location=DEVICE)\n",
        "    model.load_state_dict(checkpoint[\"state_dict\"])\n",
        "    optimizer.load_state_dict(checkpoint[\"optimizer\"])\n",
        "\n",
        "    # If we don't do this then it will just have learning rate of old checkpoint\n",
        "    # and it will lead to many hours of debugging \\:\n",
        "    for param_group in optimizer.param_groups:\n",
        "        param_group[\"lr\"] = lr\n",
        "\n",
        "\n",
        "def seed_everything(seed=42):\n",
        "    os.environ[\"PYTHONHASHSEED\"] = str(seed)\n",
        "    random.seed(seed)\n",
        "    np.random.seed(seed)\n",
        "    torch.manual_seed(seed)\n",
        "    torch.cuda.manual_seed(seed)\n",
        "    torch.cuda.manual_seed_all(seed)\n",
        "    torch.backends.cudnn.deterministic = True\n",
        "    torch.backends.cudnn.benchmark = False"
      ],
      "id": "0f7c5d91"
    },
    {
      "cell_type": "code",
      "execution_count": null,
      "metadata": {
        "colab": {
          "background_save": true,
          "base_uri": "https://localhost:8080/"
        },
        "id": "1131a4ef",
        "outputId": "77c2b313-ce6a-4b95-fc7e-9b2c49290458"
      },
      "outputs": [
        {
          "name": "stderr",
          "output_type": "stream",
          "text": [
            "/usr/local/lib/python3.10/dist-packages/torch/utils/data/dataloader.py:560: UserWarning: This DataLoader will create 4 worker processes in total. Our suggested max number of worker in current system is 2, which is smaller than what this DataLoader is going to create. Please be aware that excessive worker creation might get DataLoader running slow or even freeze, lower the worker number to avoid potential slowness/freeze if necessary.\n",
            "  warnings.warn(_create_warning_msg(\n",
            "100%|██████████| 658/658 [02:51<00:00,  3.85it/s, H_fake=0.387, H_real=0.609]\n"
          ]
        },
        {
          "name": "stdout",
          "output_type": "stream",
          "text": [
            "=> Saving checkpoint\n",
            "=> Saving checkpoint\n",
            "=> Saving checkpoint\n",
            "=> Saving checkpoint\n"
          ]
        },
        {
          "name": "stderr",
          "output_type": "stream",
          "text": [
            "100%|██████████| 658/658 [02:50<00:00,  3.85it/s, H_fake=0.386, H_real=0.613]\n"
          ]
        },
        {
          "name": "stdout",
          "output_type": "stream",
          "text": [
            "=> Saving checkpoint\n",
            "=> Saving checkpoint\n",
            "=> Saving checkpoint\n",
            "=> Saving checkpoint\n"
          ]
        },
        {
          "name": "stderr",
          "output_type": "stream",
          "text": [
            "100%|██████████| 658/658 [02:50<00:00,  3.86it/s, H_fake=0.371, H_real=0.628]\n"
          ]
        },
        {
          "name": "stdout",
          "output_type": "stream",
          "text": [
            "=> Saving checkpoint\n",
            "=> Saving checkpoint\n",
            "=> Saving checkpoint\n",
            "=> Saving checkpoint\n"
          ]
        },
        {
          "name": "stderr",
          "output_type": "stream",
          "text": [
            "100%|██████████| 658/658 [02:50<00:00,  3.86it/s, H_fake=0.387, H_real=0.612]\n"
          ]
        },
        {
          "name": "stdout",
          "output_type": "stream",
          "text": [
            "=> Saving checkpoint\n",
            "=> Saving checkpoint\n",
            "=> Saving checkpoint\n",
            "=> Saving checkpoint\n"
          ]
        },
        {
          "name": "stderr",
          "output_type": "stream",
          "text": [
            "100%|██████████| 658/658 [02:51<00:00,  3.85it/s, H_fake=0.359, H_real=0.64]\n"
          ]
        },
        {
          "name": "stdout",
          "output_type": "stream",
          "text": [
            "=> Saving checkpoint\n",
            "=> Saving checkpoint\n",
            "=> Saving checkpoint\n",
            "=> Saving checkpoint\n"
          ]
        },
        {
          "name": "stderr",
          "output_type": "stream",
          "text": [
            "100%|██████████| 658/658 [02:50<00:00,  3.86it/s, H_fake=0.347, H_real=0.652]\n"
          ]
        },
        {
          "name": "stdout",
          "output_type": "stream",
          "text": [
            "=> Saving checkpoint\n",
            "=> Saving checkpoint\n",
            "=> Saving checkpoint\n",
            "=> Saving checkpoint\n"
          ]
        },
        {
          "name": "stderr",
          "output_type": "stream",
          "text": [
            "100%|██████████| 658/658 [02:51<00:00,  3.83it/s, H_fake=0.358, H_real=0.642]\n"
          ]
        },
        {
          "name": "stdout",
          "output_type": "stream",
          "text": [
            "=> Saving checkpoint\n",
            "=> Saving checkpoint\n",
            "=> Saving checkpoint\n",
            "=> Saving checkpoint\n"
          ]
        },
        {
          "name": "stderr",
          "output_type": "stream",
          "text": [
            "100%|██████████| 658/658 [02:51<00:00,  3.84it/s, H_fake=0.385, H_real=0.607]\n"
          ]
        },
        {
          "name": "stdout",
          "output_type": "stream",
          "text": [
            "=> Saving checkpoint\n",
            "=> Saving checkpoint\n",
            "=> Saving checkpoint\n",
            "=> Saving checkpoint\n"
          ]
        },
        {
          "name": "stderr",
          "output_type": "stream",
          "text": [
            "100%|██████████| 658/658 [02:51<00:00,  3.83it/s, H_fake=0.47, H_real=0.528]\n"
          ]
        },
        {
          "name": "stdout",
          "output_type": "stream",
          "text": [
            "=> Saving checkpoint\n",
            "=> Saving checkpoint\n",
            "=> Saving checkpoint\n",
            "=> Saving checkpoint\n"
          ]
        },
        {
          "name": "stderr",
          "output_type": "stream",
          "text": [
            "100%|██████████| 658/658 [02:51<00:00,  3.83it/s, H_fake=0.412, H_real=0.588]\n"
          ]
        },
        {
          "name": "stdout",
          "output_type": "stream",
          "text": [
            "=> Saving checkpoint\n",
            "=> Saving checkpoint\n",
            "=> Saving checkpoint\n",
            "=> Saving checkpoint\n"
          ]
        },
        {
          "name": "stderr",
          "output_type": "stream",
          "text": [
            "100%|██████████| 658/658 [02:51<00:00,  3.84it/s, H_fake=0.369, H_real=0.631]\n"
          ]
        },
        {
          "name": "stdout",
          "output_type": "stream",
          "text": [
            "=> Saving checkpoint\n",
            "=> Saving checkpoint\n",
            "=> Saving checkpoint\n",
            "=> Saving checkpoint\n"
          ]
        },
        {
          "name": "stderr",
          "output_type": "stream",
          "text": [
            "100%|██████████| 658/658 [02:51<00:00,  3.84it/s, H_fake=0.366, H_real=0.634]\n"
          ]
        },
        {
          "name": "stdout",
          "output_type": "stream",
          "text": [
            "=> Saving checkpoint\n",
            "=> Saving checkpoint\n",
            "=> Saving checkpoint\n",
            "=> Saving checkpoint\n"
          ]
        },
        {
          "name": "stderr",
          "output_type": "stream",
          "text": [
            "100%|██████████| 658/658 [02:50<00:00,  3.86it/s, H_fake=0.362, H_real=0.638]\n"
          ]
        },
        {
          "name": "stdout",
          "output_type": "stream",
          "text": [
            "=> Saving checkpoint\n",
            "=> Saving checkpoint\n",
            "=> Saving checkpoint\n",
            "=> Saving checkpoint\n"
          ]
        },
        {
          "name": "stderr",
          "output_type": "stream",
          "text": [
            "100%|██████████| 658/658 [02:50<00:00,  3.86it/s, H_fake=0.357, H_real=0.639]\n"
          ]
        },
        {
          "name": "stdout",
          "output_type": "stream",
          "text": [
            "=> Saving checkpoint\n",
            "=> Saving checkpoint\n",
            "=> Saving checkpoint\n",
            "=> Saving checkpoint\n"
          ]
        },
        {
          "name": "stderr",
          "output_type": "stream",
          "text": [
            "100%|██████████| 658/658 [02:50<00:00,  3.87it/s, H_fake=0.476, H_real=0.519]\n"
          ]
        },
        {
          "name": "stdout",
          "output_type": "stream",
          "text": [
            "=> Saving checkpoint\n",
            "=> Saving checkpoint\n",
            "=> Saving checkpoint\n",
            "=> Saving checkpoint\n"
          ]
        },
        {
          "name": "stderr",
          "output_type": "stream",
          "text": [
            "100%|██████████| 658/658 [02:50<00:00,  3.86it/s, H_fake=0.46, H_real=0.54]\n"
          ]
        },
        {
          "name": "stdout",
          "output_type": "stream",
          "text": [
            "=> Saving checkpoint\n",
            "=> Saving checkpoint\n",
            "=> Saving checkpoint\n",
            "=> Saving checkpoint\n"
          ]
        },
        {
          "name": "stderr",
          "output_type": "stream",
          "text": [
            "100%|██████████| 658/658 [02:50<00:00,  3.85it/s, H_fake=0.432, H_real=0.568]\n"
          ]
        },
        {
          "name": "stdout",
          "output_type": "stream",
          "text": [
            "=> Saving checkpoint\n",
            "=> Saving checkpoint\n",
            "=> Saving checkpoint\n",
            "=> Saving checkpoint\n"
          ]
        },
        {
          "name": "stderr",
          "output_type": "stream",
          "text": [
            "100%|██████████| 658/658 [02:50<00:00,  3.87it/s, H_fake=0.404, H_real=0.597]\n"
          ]
        },
        {
          "name": "stdout",
          "output_type": "stream",
          "text": [
            "=> Saving checkpoint\n",
            "=> Saving checkpoint\n",
            "=> Saving checkpoint\n",
            "=> Saving checkpoint\n"
          ]
        },
        {
          "name": "stderr",
          "output_type": "stream",
          "text": [
            "100%|██████████| 658/658 [02:50<00:00,  3.85it/s, H_fake=0.394, H_real=0.606]\n"
          ]
        },
        {
          "name": "stdout",
          "output_type": "stream",
          "text": [
            "=> Saving checkpoint\n",
            "=> Saving checkpoint\n",
            "=> Saving checkpoint\n",
            "=> Saving checkpoint\n"
          ]
        },
        {
          "name": "stderr",
          "output_type": "stream",
          "text": [
            "100%|██████████| 658/658 [02:50<00:00,  3.85it/s, H_fake=0.398, H_real=0.602]\n"
          ]
        },
        {
          "name": "stdout",
          "output_type": "stream",
          "text": [
            "=> Saving checkpoint\n",
            "=> Saving checkpoint\n",
            "=> Saving checkpoint\n",
            "=> Saving checkpoint\n"
          ]
        },
        {
          "name": "stderr",
          "output_type": "stream",
          "text": [
            "100%|██████████| 658/658 [02:51<00:00,  3.84it/s, H_fake=0.41, H_real=0.59]\n"
          ]
        },
        {
          "name": "stdout",
          "output_type": "stream",
          "text": [
            "=> Saving checkpoint\n",
            "=> Saving checkpoint\n",
            "=> Saving checkpoint\n",
            "=> Saving checkpoint\n"
          ]
        },
        {
          "name": "stderr",
          "output_type": "stream",
          "text": [
            "100%|██████████| 658/658 [02:50<00:00,  3.86it/s, H_fake=0.403, H_real=0.597]\n"
          ]
        },
        {
          "name": "stdout",
          "output_type": "stream",
          "text": [
            "=> Saving checkpoint\n",
            "=> Saving checkpoint\n",
            "=> Saving checkpoint\n",
            "=> Saving checkpoint\n"
          ]
        },
        {
          "name": "stderr",
          "output_type": "stream",
          "text": [
            "100%|██████████| 658/658 [02:50<00:00,  3.85it/s, H_fake=0.396, H_real=0.604]\n"
          ]
        },
        {
          "name": "stdout",
          "output_type": "stream",
          "text": [
            "=> Saving checkpoint\n",
            "=> Saving checkpoint\n",
            "=> Saving checkpoint\n",
            "=> Saving checkpoint\n"
          ]
        },
        {
          "name": "stderr",
          "output_type": "stream",
          "text": [
            "100%|██████████| 658/658 [02:50<00:00,  3.86it/s, H_fake=0.396, H_real=0.603]\n"
          ]
        },
        {
          "name": "stdout",
          "output_type": "stream",
          "text": [
            "=> Saving checkpoint\n",
            "=> Saving checkpoint\n",
            "=> Saving checkpoint\n",
            "=> Saving checkpoint\n"
          ]
        },
        {
          "name": "stderr",
          "output_type": "stream",
          "text": [
            "100%|██████████| 658/658 [02:50<00:00,  3.85it/s, H_fake=0.399, H_real=0.601]\n"
          ]
        },
        {
          "name": "stdout",
          "output_type": "stream",
          "text": [
            "=> Saving checkpoint\n",
            "=> Saving checkpoint\n",
            "=> Saving checkpoint\n",
            "=> Saving checkpoint\n"
          ]
        },
        {
          "name": "stderr",
          "output_type": "stream",
          "text": [
            "100%|██████████| 658/658 [02:50<00:00,  3.85it/s, H_fake=0.391, H_real=0.609]\n"
          ]
        },
        {
          "name": "stdout",
          "output_type": "stream",
          "text": [
            "=> Saving checkpoint\n",
            "=> Saving checkpoint\n",
            "=> Saving checkpoint\n",
            "=> Saving checkpoint\n"
          ]
        },
        {
          "name": "stderr",
          "output_type": "stream",
          "text": [
            "100%|██████████| 658/658 [02:51<00:00,  3.85it/s, H_fake=0.389, H_real=0.61]\n"
          ]
        },
        {
          "name": "stdout",
          "output_type": "stream",
          "text": [
            "=> Saving checkpoint\n",
            "=> Saving checkpoint\n",
            "=> Saving checkpoint\n",
            "=> Saving checkpoint\n"
          ]
        },
        {
          "name": "stderr",
          "output_type": "stream",
          "text": [
            "100%|██████████| 658/658 [02:51<00:00,  3.84it/s, H_fake=0.38, H_real=0.62]\n"
          ]
        },
        {
          "name": "stdout",
          "output_type": "stream",
          "text": [
            "=> Saving checkpoint\n",
            "=> Saving checkpoint\n",
            "=> Saving checkpoint\n",
            "=> Saving checkpoint\n"
          ]
        },
        {
          "name": "stderr",
          "output_type": "stream",
          "text": [
            "100%|██████████| 658/658 [02:51<00:00,  3.84it/s, H_fake=0.382, H_real=0.617]\n"
          ]
        },
        {
          "name": "stdout",
          "output_type": "stream",
          "text": [
            "=> Saving checkpoint\n",
            "=> Saving checkpoint\n",
            "=> Saving checkpoint\n",
            "=> Saving checkpoint\n"
          ]
        },
        {
          "name": "stderr",
          "output_type": "stream",
          "text": [
            "100%|██████████| 658/658 [02:50<00:00,  3.86it/s, H_fake=0.369, H_real=0.631]\n"
          ]
        },
        {
          "name": "stdout",
          "output_type": "stream",
          "text": [
            "=> Saving checkpoint\n",
            "=> Saving checkpoint\n",
            "=> Saving checkpoint\n",
            "=> Saving checkpoint\n"
          ]
        },
        {
          "name": "stderr",
          "output_type": "stream",
          "text": [
            "100%|██████████| 658/658 [02:50<00:00,  3.85it/s, H_fake=0.435, H_real=0.561]\n"
          ]
        },
        {
          "name": "stdout",
          "output_type": "stream",
          "text": [
            "=> Saving checkpoint\n",
            "=> Saving checkpoint\n",
            "=> Saving checkpoint\n",
            "=> Saving checkpoint\n"
          ]
        },
        {
          "name": "stderr",
          "output_type": "stream",
          "text": [
            "100%|██████████| 658/658 [02:51<00:00,  3.85it/s, H_fake=0.489, H_real=0.509]\n"
          ]
        },
        {
          "name": "stdout",
          "output_type": "stream",
          "text": [
            "=> Saving checkpoint\n",
            "=> Saving checkpoint\n",
            "=> Saving checkpoint\n",
            "=> Saving checkpoint\n"
          ]
        },
        {
          "name": "stderr",
          "output_type": "stream",
          "text": [
            "100%|██████████| 658/658 [02:50<00:00,  3.85it/s, H_fake=0.484, H_real=0.514]\n"
          ]
        },
        {
          "name": "stdout",
          "output_type": "stream",
          "text": [
            "=> Saving checkpoint\n",
            "=> Saving checkpoint\n",
            "=> Saving checkpoint\n",
            "=> Saving checkpoint\n"
          ]
        },
        {
          "name": "stderr",
          "output_type": "stream",
          "text": [
            "100%|██████████| 658/658 [02:50<00:00,  3.86it/s, H_fake=0.472, H_real=0.527]\n"
          ]
        },
        {
          "name": "stdout",
          "output_type": "stream",
          "text": [
            "=> Saving checkpoint\n",
            "=> Saving checkpoint\n",
            "=> Saving checkpoint\n",
            "=> Saving checkpoint\n"
          ]
        },
        {
          "name": "stderr",
          "output_type": "stream",
          "text": [
            "100%|██████████| 658/658 [02:51<00:00,  3.84it/s, H_fake=0.439, H_real=0.561]\n"
          ]
        },
        {
          "name": "stdout",
          "output_type": "stream",
          "text": [
            "=> Saving checkpoint\n",
            "=> Saving checkpoint\n",
            "=> Saving checkpoint\n",
            "=> Saving checkpoint\n"
          ]
        },
        {
          "name": "stderr",
          "output_type": "stream",
          "text": [
            "100%|██████████| 658/658 [02:50<00:00,  3.85it/s, H_fake=0.367, H_real=0.632]\n"
          ]
        },
        {
          "name": "stdout",
          "output_type": "stream",
          "text": [
            "=> Saving checkpoint\n",
            "=> Saving checkpoint\n",
            "=> Saving checkpoint\n",
            "=> Saving checkpoint\n"
          ]
        },
        {
          "name": "stderr",
          "output_type": "stream",
          "text": [
            "100%|██████████| 658/658 [02:50<00:00,  3.86it/s, H_fake=0.393, H_real=0.608]\n"
          ]
        },
        {
          "name": "stdout",
          "output_type": "stream",
          "text": [
            "=> Saving checkpoint\n",
            "=> Saving checkpoint\n",
            "=> Saving checkpoint\n",
            "=> Saving checkpoint\n"
          ]
        },
        {
          "name": "stderr",
          "output_type": "stream",
          "text": [
            "100%|██████████| 658/658 [02:51<00:00,  3.84it/s, H_fake=0.383, H_real=0.617]\n"
          ]
        },
        {
          "name": "stdout",
          "output_type": "stream",
          "text": [
            "=> Saving checkpoint\n",
            "=> Saving checkpoint\n",
            "=> Saving checkpoint\n",
            "=> Saving checkpoint\n"
          ]
        },
        {
          "name": "stderr",
          "output_type": "stream",
          "text": [
            "100%|██████████| 658/658 [02:51<00:00,  3.84it/s, H_fake=0.38, H_real=0.62]\n"
          ]
        },
        {
          "name": "stdout",
          "output_type": "stream",
          "text": [
            "=> Saving checkpoint\n",
            "=> Saving checkpoint\n",
            "=> Saving checkpoint\n",
            "=> Saving checkpoint\n"
          ]
        },
        {
          "name": "stderr",
          "output_type": "stream",
          "text": [
            "100%|██████████| 658/658 [02:50<00:00,  3.85it/s, H_fake=0.386, H_real=0.614]\n"
          ]
        },
        {
          "name": "stdout",
          "output_type": "stream",
          "text": [
            "=> Saving checkpoint\n",
            "=> Saving checkpoint\n",
            "=> Saving checkpoint\n",
            "=> Saving checkpoint\n"
          ]
        },
        {
          "name": "stderr",
          "output_type": "stream",
          "text": [
            "100%|██████████| 658/658 [02:51<00:00,  3.84it/s, H_fake=0.388, H_real=0.612]\n"
          ]
        },
        {
          "name": "stdout",
          "output_type": "stream",
          "text": [
            "=> Saving checkpoint\n",
            "=> Saving checkpoint\n",
            "=> Saving checkpoint\n",
            "=> Saving checkpoint\n"
          ]
        },
        {
          "name": "stderr",
          "output_type": "stream",
          "text": [
            "100%|██████████| 658/658 [02:50<00:00,  3.87it/s, H_fake=0.39, H_real=0.61]\n"
          ]
        },
        {
          "name": "stdout",
          "output_type": "stream",
          "text": [
            "=> Saving checkpoint\n",
            "=> Saving checkpoint\n",
            "=> Saving checkpoint\n",
            "=> Saving checkpoint\n"
          ]
        },
        {
          "name": "stderr",
          "output_type": "stream",
          "text": [
            "100%|██████████| 658/658 [02:49<00:00,  3.87it/s, H_fake=0.386, H_real=0.613]\n"
          ]
        },
        {
          "name": "stdout",
          "output_type": "stream",
          "text": [
            "=> Saving checkpoint\n",
            "=> Saving checkpoint\n",
            "=> Saving checkpoint\n",
            "=> Saving checkpoint\n"
          ]
        },
        {
          "name": "stderr",
          "output_type": "stream",
          "text": [
            "100%|██████████| 658/658 [02:49<00:00,  3.88it/s, H_fake=0.382, H_real=0.618]\n"
          ]
        },
        {
          "name": "stdout",
          "output_type": "stream",
          "text": [
            "=> Saving checkpoint\n",
            "=> Saving checkpoint\n",
            "=> Saving checkpoint\n",
            "=> Saving checkpoint\n"
          ]
        },
        {
          "name": "stderr",
          "output_type": "stream",
          "text": [
            "100%|██████████| 658/658 [02:49<00:00,  3.89it/s, H_fake=0.381, H_real=0.618]\n"
          ]
        },
        {
          "name": "stdout",
          "output_type": "stream",
          "text": [
            "=> Saving checkpoint\n",
            "=> Saving checkpoint\n",
            "=> Saving checkpoint\n",
            "=> Saving checkpoint\n"
          ]
        },
        {
          "name": "stderr",
          "output_type": "stream",
          "text": [
            "100%|██████████| 658/658 [02:49<00:00,  3.89it/s, H_fake=0.315, H_real=0.685]\n"
          ]
        },
        {
          "name": "stdout",
          "output_type": "stream",
          "text": [
            "=> Saving checkpoint\n",
            "=> Saving checkpoint\n",
            "=> Saving checkpoint\n",
            "=> Saving checkpoint\n"
          ]
        },
        {
          "name": "stderr",
          "output_type": "stream",
          "text": [
            "100%|██████████| 658/658 [02:48<00:00,  3.89it/s, H_fake=0.377, H_real=0.622]\n"
          ]
        },
        {
          "name": "stdout",
          "output_type": "stream",
          "text": [
            "=> Saving checkpoint\n",
            "=> Saving checkpoint\n",
            "=> Saving checkpoint\n",
            "=> Saving checkpoint\n"
          ]
        },
        {
          "name": "stderr",
          "output_type": "stream",
          "text": [
            "100%|██████████| 658/658 [02:48<00:00,  3.91it/s, H_fake=0.378, H_real=0.621]\n"
          ]
        },
        {
          "name": "stdout",
          "output_type": "stream",
          "text": [
            "=> Saving checkpoint\n",
            "=> Saving checkpoint\n",
            "=> Saving checkpoint\n",
            "=> Saving checkpoint\n"
          ]
        },
        {
          "name": "stderr",
          "output_type": "stream",
          "text": [
            "100%|██████████| 658/658 [02:49<00:00,  3.89it/s, H_fake=0.445, H_real=0.548]\n"
          ]
        },
        {
          "name": "stdout",
          "output_type": "stream",
          "text": [
            "=> Saving checkpoint\n",
            "=> Saving checkpoint\n",
            "=> Saving checkpoint\n",
            "=> Saving checkpoint\n"
          ]
        },
        {
          "name": "stderr",
          "output_type": "stream",
          "text": [
            "100%|██████████| 658/658 [02:49<00:00,  3.88it/s, H_fake=0.493, H_real=0.504]\n"
          ]
        },
        {
          "name": "stdout",
          "output_type": "stream",
          "text": [
            "=> Saving checkpoint\n",
            "=> Saving checkpoint\n",
            "=> Saving checkpoint\n",
            "=> Saving checkpoint\n"
          ]
        },
        {
          "name": "stderr",
          "output_type": "stream",
          "text": [
            "100%|██████████| 658/658 [02:49<00:00,  3.87it/s, H_fake=0.49, H_real=0.509]\n"
          ]
        },
        {
          "name": "stdout",
          "output_type": "stream",
          "text": [
            "=> Saving checkpoint\n",
            "=> Saving checkpoint\n",
            "=> Saving checkpoint\n",
            "=> Saving checkpoint\n"
          ]
        },
        {
          "name": "stderr",
          "output_type": "stream",
          "text": [
            " 75%|███████▌  | 496/658 [02:08<00:40,  3.96it/s, H_fake=0.482, H_real=0.517]"
          ]
        }
      ],
      "source": [
        "import torch\n",
        "import sys\n",
        "from torch.utils.data import DataLoader\n",
        "import torch.nn as nn\n",
        "import torch.optim as optim\n",
        "from tqdm import tqdm\n",
        "from torchvision.utils import save_image\n",
        "import time as t\n",
        "\n",
        "\n",
        "def train_fn(\n",
        "    disc_H, disc_Z, gen_Z, gen_H, loader, opt_disc, opt_gen, l1, mse, d_scaler, g_scaler\n",
        "):\n",
        "    H_reals = 0\n",
        "    H_fakes = 0\n",
        "    loop = tqdm(loader, leave=True)\n",
        "\n",
        "    for idx, (zebra, horse) in enumerate(loop):\n",
        "        zebra = zebra.to(DEVICE)\n",
        "        horse = horse.to(DEVICE)\n",
        "\n",
        "        # Train Discriminators H and Z\n",
        "        with torch.cuda.amp.autocast():\n",
        "\n",
        "            fake_horse = gen_H(zebra)\n",
        "\n",
        "            D_H_real = disc_H(horse)\n",
        "            D_H_fake = disc_H(fake_horse.detach())\n",
        "\n",
        "            H_reals += D_H_real.mean().item()\n",
        "            H_fakes += D_H_fake.mean().item()\n",
        "\n",
        "            D_H_real_loss = mse(D_H_real, torch.ones_like(D_H_real))\n",
        "            D_H_fake_loss = mse(D_H_fake, torch.zeros_like(D_H_fake))\n",
        "            D_H_loss = D_H_real_loss + D_H_fake_loss\n",
        "\n",
        "            fake_zebra = gen_Z(horse)\n",
        "            D_Z_real = disc_Z(zebra)\n",
        "            D_Z_fake = disc_Z(fake_zebra.detach())\n",
        "            D_Z_real_loss = mse(D_Z_real, torch.ones_like(D_Z_real))\n",
        "            D_Z_fake_loss = mse(D_Z_fake, torch.zeros_like(D_Z_fake))\n",
        "            D_Z_loss = D_Z_real_loss + D_Z_fake_loss\n",
        "\n",
        "            # put it togethor\n",
        "            D_loss = (D_H_loss + D_Z_loss) / 2\n",
        "\n",
        "        opt_disc.zero_grad()\n",
        "        d_scaler.scale(D_loss).backward()\n",
        "        d_scaler.step(opt_disc)\n",
        "        d_scaler.update()\n",
        "\n",
        "        # Train Generators H and Z\n",
        "        with torch.cuda.amp.autocast():\n",
        "            # adversarial loss for both generators\n",
        "            D_H_fake = disc_H(fake_horse)\n",
        "            D_Z_fake = disc_Z(fake_zebra)\n",
        "            loss_G_H = mse(D_H_fake, torch.ones_like(D_H_fake))\n",
        "            loss_G_Z = mse(D_Z_fake, torch.ones_like(D_Z_fake))\n",
        "\n",
        "            # cycle loss\n",
        "            cycle_zebra = gen_Z(fake_horse)\n",
        "            cycle_horse = gen_H(fake_zebra)\n",
        "            cycle_zebra_loss = l1(zebra, cycle_zebra)\n",
        "            cycle_horse_loss = l1(horse, cycle_horse)\n",
        "\n",
        "            # identity loss (remove these for efficiency if you set lambda_identity=0)\n",
        "            identity_zebra = gen_Z(zebra)\n",
        "            identity_horse = gen_H(horse)\n",
        "            identity_zebra_loss = l1(zebra, identity_zebra)\n",
        "            identity_horse_loss = l1(horse, identity_horse)\n",
        "\n",
        "            # add all togethor\n",
        "            G_loss = (\n",
        "                loss_G_Z\n",
        "                + loss_G_H\n",
        "                + cycle_zebra_loss * LAMBDA_CYCLE\n",
        "                + cycle_horse_loss * LAMBDA_CYCLE\n",
        "                + identity_horse_loss * LAMBDA_IDENTITY\n",
        "                + identity_zebra_loss * LAMBDA_IDENTITY\n",
        "            )\n",
        "\n",
        "        opt_gen.zero_grad()\n",
        "        g_scaler.scale(G_loss).backward()\n",
        "        g_scaler.step(opt_gen)\n",
        "        g_scaler.update()\n",
        "\n",
        "        if idx == 0:\n",
        "            timestamp = t.time()\n",
        "            save_image(fake_horse * 0.5 + 0.5, f\"/content/drive/MyDrive/TFG/CycleGAN_mem/output_1_{timestamp}.png\")\n",
        "            save_image(fake_zebra * 0.5 + 0.5, f\"/content/drive/MyDrive/TFG/CycleGAN_mem/output_2_{timestamp}.png\")\n",
        "\n",
        "        loop.set_postfix(H_real=H_reals / (idx + 1), H_fake=H_fakes / (idx + 1))\n",
        "\n",
        "\n",
        "def main():\n",
        "    disc_H = Discriminator(256).to(DEVICE)\n",
        "    disc_Z = Discriminator(256).to(DEVICE)\n",
        "    gen_Z = Generator(img_channels=3, num_residuals=9).to(DEVICE)\n",
        "    gen_H = Generator(img_channels=3, num_residuals=9).to(DEVICE)\n",
        "    opt_disc = optim.Adam(\n",
        "        list(disc_H.parameters()) + list(disc_Z.parameters()),\n",
        "        lr=LEARNING_RATE,\n",
        "        betas=(0.5, 0.999),\n",
        "    )\n",
        "\n",
        "    opt_gen = optim.Adam(\n",
        "        list(gen_Z.parameters()) + list(gen_H.parameters()),\n",
        "        lr=LEARNING_RATE,\n",
        "        betas=(0.5, 0.999),\n",
        "    )\n",
        "\n",
        "    L1 = nn.L1Loss()\n",
        "    mse = nn.MSELoss()\n",
        "\n",
        "    if LOAD_MODEL:\n",
        "        load_checkpoint(\n",
        "            CHECKPOINT_GEN_H,\n",
        "            gen_H,\n",
        "            opt_gen,\n",
        "            LEARNING_RATE,\n",
        "        )\n",
        "        load_checkpoint(\n",
        "            CHECKPOINT_GEN_Z,\n",
        "            gen_Z,\n",
        "            opt_gen,\n",
        "            LEARNING_RATE,\n",
        "        )\n",
        "        load_checkpoint(\n",
        "            CHECKPOINT_CRITIC_H,\n",
        "            disc_H,\n",
        "            opt_disc,\n",
        "            LEARNING_RATE,\n",
        "        )\n",
        "        load_checkpoint(\n",
        "            CHECKPOINT_CRITIC_Z,\n",
        "            disc_Z,\n",
        "            opt_disc,\n",
        "            LEARNING_RATE,\n",
        "        )\n",
        "\n",
        "    dataset = HorseZebraDataset(\n",
        "        root_horse=\"Kids\",\n",
        "        root_zebra=\"Adults\",\n",
        "        transform=transforms,\n",
        "    )\n",
        "    val_dataset = HorseZebraDataset(\n",
        "        root_horse=\"Kids\",\n",
        "        root_zebra=\"Adults\",\n",
        "        transform=transforms,\n",
        "    )\n",
        "    val_loader = DataLoader(\n",
        "        val_dataset,\n",
        "        batch_size=1,\n",
        "        shuffle=False,\n",
        "        pin_memory=True,\n",
        "    )\n",
        "    loader = DataLoader(\n",
        "        dataset,\n",
        "        batch_size=BATCH_SIZE,\n",
        "        shuffle=True,\n",
        "        num_workers=NUM_WORKERS,\n",
        "        pin_memory=True,\n",
        "    )\n",
        "    g_scaler = torch.cuda.amp.GradScaler()\n",
        "    d_scaler = torch.cuda.amp.GradScaler()\n",
        "\n",
        "    for epoch in range(NUM_EPOCHS):\n",
        "        train_fn(\n",
        "            disc_H,\n",
        "            disc_Z,\n",
        "            gen_Z,\n",
        "            gen_H,\n",
        "            loader,\n",
        "            opt_disc,\n",
        "            opt_gen,\n",
        "            L1,\n",
        "            mse,\n",
        "            d_scaler,\n",
        "            g_scaler,\n",
        "        )\n",
        "\n",
        "        if SAVE_MODEL:\n",
        "            save_checkpoint(gen_H, opt_gen, filename=CHECKPOINT_GEN_H)\n",
        "            save_checkpoint(gen_Z, opt_gen, filename=CHECKPOINT_GEN_Z)\n",
        "            save_checkpoint(disc_H, opt_disc, filename=CHECKPOINT_CRITIC_H)\n",
        "            save_checkpoint(disc_Z, opt_disc, filename=CHECKPOINT_CRITIC_Z)\n",
        "\n",
        "\n",
        "if __name__ == \"__main__\":\n",
        "    main()"
      ],
      "id": "1131a4ef"
    },
    {
      "cell_type": "code",
      "execution_count": null,
      "metadata": {
        "id": "g-F8zW8PsQuA"
      },
      "outputs": [],
      "source": [],
      "id": "g-F8zW8PsQuA"
    }
  ],
  "metadata": {
    "accelerator": "GPU",
    "colab": {
      "provenance": []
    },
    "kernelspec": {
      "display_name": "Python 3",
      "name": "python3"
    },
    "language_info": {
      "codemirror_mode": {
        "name": "ipython",
        "version": 3
      },
      "file_extension": ".py",
      "mimetype": "text/x-python",
      "name": "python",
      "nbconvert_exporter": "python",
      "pygments_lexer": "ipython3",
      "version": "3.8.16"
    }
  },
  "nbformat": 4,
  "nbformat_minor": 5
}